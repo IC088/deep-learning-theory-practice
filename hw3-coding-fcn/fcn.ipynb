{
 "cells": [
  {
   "cell_type": "markdown",
   "metadata": {},
   "source": [
    "# 50.039 Theory and Practice of Deep Learning | Coding Homework 3 - Fully Connected Network Exercise\n",
    "## Joel Huang, 1002530\n",
    "\n",
    "Note: some of the main code is written in separate files, but imported as Python modules.\n",
    "* The model architecture is in `./model`\n",
    "* Data loaders, metrics and visualization code is in `./utils`."
   ]
  },
  {
   "cell_type": "code",
   "execution_count": 1,
   "metadata": {},
   "outputs": [],
   "source": [
    "import torch\n",
    "import torch.nn as nn\n",
    "import torch.nn.functional as F\n",
    "import torch.optim as optim\n",
    "\n",
    "from model.model import FCN\n",
    "from utils.data_loaders import get_data_loaders\n",
    "from utils.scoring import get_classwise_accuracy\n",
    "from utils.visualization import plot_training_validation_loss\n",
    "from utils.visualization import plot_classwise_accuracies"
   ]
  },
  {
   "cell_type": "markdown",
   "metadata": {},
   "source": [
    "## Define train, validation and test sequences"
   ]
  },
  {
   "cell_type": "code",
   "execution_count": 2,
   "metadata": {},
   "outputs": [],
   "source": [
    "def train(model, device, train_loader, optimizer, epoch):\n",
    "    model.train()\n",
    "    train_losses = []\n",
    "    for batch_idx, (data, target) in enumerate(train_loader):\n",
    "        data, target = data.to(device), target.to(device)\n",
    "        optimizer.zero_grad()\n",
    "        output = model(data)\n",
    "        loss = F.nll_loss(output, target)\n",
    "        loss.backward()\n",
    "        optimizer.step()\n",
    "        train_losses.append(loss.item())\n",
    "    train_loss = torch.mean(torch.tensor(train_losses))\n",
    "    print('\\nEpoch: {}'.format(epoch))\n",
    "    print('Training set: Average loss: {:.4f}'.format(train_loss))\n",
    "    \n",
    "    return train_loss\n",
    "\n",
    "def validate(model, device, val_loader):\n",
    "    model.eval()\n",
    "    val_loss = 0\n",
    "    correct = 0\n",
    "    \n",
    "    with torch.no_grad():\n",
    "        for data, target in val_loader:\n",
    "            data, target = data.to(device), target.to(device)\n",
    "            output = model(data)\n",
    "            \n",
    "            # sum up all the batch losses\n",
    "            val_loss += F.nll_loss(output, target, reduction='sum').item()\n",
    "            pred = output.argmax(dim=1, keepdim=True)\n",
    "            correct += pred.eq(target.view_as(pred)).sum().item()\n",
    "\n",
    "    # get the average validation loss\n",
    "    val_loss /= len(val_loader.dataset)\n",
    "    print('Validation set: Average loss: {:.4f}, Accuracy: {}/{} ({:.0f}%)'.format(\n",
    "        val_loss, correct, len(val_loader.dataset),\n",
    "        100. * correct / len(val_loader.dataset)))\n",
    "    \n",
    "    return val_loss\n",
    "\n",
    "def test(model, device, test_loader):\n",
    "    model.eval()\n",
    "    \n",
    "    num_classes = 10\n",
    "    outputs = []\n",
    "    classes = []\n",
    "    confusion_matrix = torch.zeros(num_classes, num_classes)\n",
    "    \n",
    "    with torch.no_grad():\n",
    "        for _, (input_batch, class_list) in enumerate(test_loader):\n",
    "            input_batch, class_list = input_batch.to(device), class_list.to(device)\n",
    "            output = model(input_batch)\n",
    "            _, preds = torch.max(output, 1)\n",
    "            for t, p in zip(class_list.view(-1), preds.view(-1)):\n",
    "                    confusion_matrix[t.long(), p.long()] += 1\n",
    "           \n",
    "    classwise_accuracy = get_classwise_accuracy(confusion_matrix)\n",
    "    \n",
    "    return classwise_accuracy"
   ]
  },
  {
   "cell_type": "markdown",
   "metadata": {},
   "source": [
    "## Run pipeline"
   ]
  },
  {
   "cell_type": "code",
   "execution_count": 3,
   "metadata": {},
   "outputs": [
    {
     "name": "stderr",
     "output_type": "stream",
     "text": [
      "/home/joel/Desktop/deep-learning-theory-practice/hw3-coding-fcn/model/model.py:16: UserWarning: Implicit dimension choice for log_softmax has been deprecated. Change the call to include dim=X as an argument.\n",
      "  return F.log_softmax(x)\n"
     ]
    },
    {
     "name": "stdout",
     "output_type": "stream",
     "text": [
      "\n",
      "Epoch: 1\n",
      "Training set: Average loss: 1.0854\n",
      "Validation set: Average loss: 0.6632, Accuracy: 45821/60000 (76%)\n",
      "\n",
      "Epoch: 2\n",
      "Training set: Average loss: 0.5801\n",
      "Validation set: Average loss: 0.5147, Accuracy: 49347/60000 (82%)\n",
      "Saving model (epoch 2) with lowest validation loss: 0.51472947965463\n",
      "\n",
      "Epoch: 3\n",
      "Training set: Average loss: 0.4978\n",
      "Validation set: Average loss: 0.4883, Accuracy: 49797/60000 (83%)\n",
      "Saving model (epoch 3) with lowest validation loss: 0.4883463346083959\n",
      "\n",
      "Epoch: 4\n",
      "Training set: Average loss: 0.4617\n",
      "Validation set: Average loss: 0.4582, Accuracy: 50346/60000 (84%)\n",
      "Saving model (epoch 4) with lowest validation loss: 0.45816672285397847\n",
      "\n",
      "Epoch: 5\n",
      "Training set: Average loss: 0.4383\n",
      "Validation set: Average loss: 0.4182, Accuracy: 51249/60000 (85%)\n",
      "Saving model (epoch 5) with lowest validation loss: 0.41820165537993115\n",
      "\n",
      "Epoch: 6\n",
      "Training set: Average loss: 0.4198\n",
      "Validation set: Average loss: 0.4036, Accuracy: 51538/60000 (86%)\n",
      "Saving model (epoch 6) with lowest validation loss: 0.4036186923782031\n",
      "\n",
      "Epoch: 7\n",
      "Training set: Average loss: 0.4042\n",
      "Validation set: Average loss: 0.3931, Accuracy: 51808/60000 (86%)\n",
      "Saving model (epoch 7) with lowest validation loss: 0.39307611914078394\n",
      "\n",
      "Epoch: 8\n",
      "Training set: Average loss: 0.3913\n",
      "Validation set: Average loss: 0.3771, Accuracy: 52155/60000 (87%)\n",
      "Saving model (epoch 8) with lowest validation loss: 0.3770608377138774\n",
      "\n",
      "Epoch: 9\n",
      "Training set: Average loss: 0.3789\n",
      "Validation set: Average loss: 0.3754, Accuracy: 52033/60000 (87%)\n",
      "Saving model (epoch 9) with lowest validation loss: 0.375430985558033\n",
      "\n",
      "Epoch: 10\n",
      "Training set: Average loss: 0.3688\n",
      "Validation set: Average loss: 0.3561, Accuracy: 52482/60000 (87%)\n",
      "Saving model (epoch 10) with lowest validation loss: 0.3560743120233218\n",
      "Training and validation complete.\n",
      "Loading model for inference.\n",
      "Running inference.\n"
     ]
    }
   ],
   "source": [
    "DATA_DIRECTORY = 'data/'\n",
    "use_cuda = 1\n",
    "batch_size = 32\n",
    "num_epochs = 10\n",
    "learning_rate = 1e-2\n",
    "\n",
    "train_loader, test_loader = get_data_loaders(batch_size, DATA_DIRECTORY)\n",
    "device = torch.device(\"cuda\" if use_cuda else \"cpu\")\n",
    "model = FCN().to(device)\n",
    "optimizer = optim.SGD(model.parameters(), lr=learning_rate)\n",
    "\n",
    "train_losses = []\n",
    "val_losses = []\n",
    "\n",
    "for epoch in range(1, num_epochs + 1):\n",
    "    train_loss = train(model, device, train_loader, optimizer, epoch)\n",
    "    val_loss = validate(model, device, test_loader) # use test as val (wrong)\n",
    "\n",
    "    if (len(val_losses) > 0) and (val_loss < min(val_losses)):\n",
    "        torch.save(model.state_dict(), \"fashion_mnist_fcn.pt\")\n",
    "        print(\"Saving model (epoch {}) with lowest validation loss: {}\"\n",
    "              .format(epoch, val_loss))\n",
    "\n",
    "    train_losses.append(train_loss)\n",
    "    val_losses.append(val_loss)\n",
    "\n",
    "print(\"Training and validation complete.\")\n",
    "\n",
    "print(\"Loading model for inference.\")\n",
    "model.load_state_dict(torch.load(\"fashion_mnist_fcn.pt\"))\n",
    "\n",
    "print(\"Running inference.\")\n",
    "classwise_accuracies = test(model, device, test_loader)"
   ]
  },
  {
   "cell_type": "markdown",
   "metadata": {},
   "source": [
    "## Training and validation loss\n",
    "\n",
    "Training and validation loss are decreasing, with slight signs of underfitting, as the loss values are pretty similar. We can afford to make the model more complex, in which case we would expect to see validation loss slightly higher than training loss but still decreasing along with it."
   ]
  },
  {
   "cell_type": "code",
   "execution_count": 4,
   "metadata": {},
   "outputs": [
    {
     "data": {
      "image/png": "[encoded data removed]",
      "text/plain": [
       "<Figure size 432x288 with 1 Axes>"
      ]
     },
     "metadata": {
      "needs_background": "light"
     },
     "output_type": "display_data"
    }
   ],
   "source": [
    "plot_training_validation_loss(num_epochs, train_losses, val_losses)"
   ]
  },
  {
   "cell_type": "markdown",
   "metadata": {},
   "source": [
    "## Classwise accuracy\n",
    "\n",
    "Here we enumerate the `test_loader` again, recalculating the confusion matrix based on the predicted and true labels. Based on the following scores, the hardest class to predict seems to be class 6 (shirts)"
   ]
  },
  {
   "cell_type": "code",
   "execution_count": 5,
   "metadata": {},
   "outputs": [
    {
     "data": {
      "image/png": "[encoded data removed]",
      "text/plain": [
       "<Figure size 1440x360 with 2 Axes>"
      ]
     },
     "metadata": {
      "needs_background": "light"
     },
     "output_type": "display_data"
    }
   ],
   "source": [
    "plot_classwise_accuracies(classwise_accuracies)"
   ]
  },
  {
   "cell_type": "markdown",
   "metadata": {},
   "source": [
    "## Best accuracy over all classes\n",
    "\n",
    "Best accuracy is calculated as the average of the classwise accuracies."
   ]
  },
  {
   "cell_type": "code",
   "execution_count": 6,
   "metadata": {},
   "outputs": [
    {
     "name": "stdout",
     "output_type": "stream",
     "text": [
      "Test set: Best accuracy: 0.8746999502182007\n"
     ]
    }
   ],
   "source": [
    "best_accuracy = torch.mean(classwise_accuracies)\n",
    "print('Test set: Best accuracy: {}'.format(best_accuracy))"
   ]
  },
  {
   "cell_type": "markdown",
   "metadata": {},
   "source": [
    "## Learning Points\n",
    "* Use `transforms.ToTensor()` to convert a PIL image to `torch.tensor`. You can feed a list of transforms to the `DataLoader`.\n",
    "* When building the model, for an input tensor with shape `(d1, ..., dn)`, you input a tensor of shape `(batch_size, d1, ..., dn)` by using `tensor.view()` to reshape the raw tensor, which might not be in this shape. You can do this either outside the model class, or as part of the `forward()` implementation, similar to `flatten` layers in Keras or Tensorflow.\n",
    " * In this case we had a `tensor` of shape `(32, 1, 28, 28)`. This was reshaped to `(32, 784)` using `tensor.view()` before it can be used as an input to layer `FCN.fc1` which maps from an input of `784` to an output of `300`.\n"
   ]
  }
 ],
 "metadata": {
  "kernelspec": {
   "display_name": "Python 3",
   "language": "python",
   "name": "python3"
  },
  "language_info": {
   "codemirror_mode": {
    "name": "ipython",
    "version": 3
   },
   "file_extension": ".py",
   "mimetype": "text/x-python",
   "name": "python",
   "nbconvert_exporter": "python",
   "pygments_lexer": "ipython3",
   "version": "3.6.8"
  }
 },
 "nbformat": 4,
 "nbformat_minor": 2
}
