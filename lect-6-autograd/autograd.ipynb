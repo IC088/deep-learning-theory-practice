{
 "cells": [
  {
   "cell_type": "markdown",
   "metadata": {},
   "source": [
    "# Computing gradients of functions in Pytorch\n",
    "## Polynomial in $\\mathbb{R}^1$"
   ]
  },
  {
   "cell_type": "code",
   "execution_count": 18,
   "metadata": {},
   "outputs": [
    {
     "data": {
      "text/plain": [
       "True"
      ]
     },
     "execution_count": 18,
     "metadata": {},
     "output_type": "execute_result"
    }
   ],
   "source": [
    "import torch\n",
    "\n",
    "x = torch.tensor([3.], requires_grad=True)\n",
    "fx = 3-(2*(x**2))+x**4\n",
    "fx.backward()\n",
    "\n",
    "dx = -4*x + 4*x**3\n",
    "torch.equal(x.grad, dx)"
   ]
  },
  {
   "cell_type": "markdown",
   "metadata": {},
   "source": [
    "## Linear in $\\mathbb{R}^2$"
   ]
  },
  {
   "cell_type": "code",
   "execution_count": 11,
   "metadata": {},
   "outputs": [
    {
     "data": {
      "text/plain": [
       "True"
      ]
     },
     "execution_count": 11,
     "metadata": {},
     "output_type": "execute_result"
    }
   ],
   "source": [
    "x = torch.tensor([[3.], [3.]], requires_grad=True)\n",
    "A = torch.tensor([[2., -1.], [1., 3.]])\n",
    "i = torch.mm(x.t(), A)\n",
    "fx = torch.mm(i, x)\n",
    "fx.backward()\n",
    "\n",
    "AA = torch.add(A, A.t())\n",
    "torch.equal(x.grad, torch.mm(AA,x))"
   ]
  },
  {
   "cell_type": "markdown",
   "metadata": {},
   "source": [
    "## Linear in $\\mathbb{R}^{2x2}$ (Jacobian matrix)\n",
    "For $f(x) = u^T x v$, and $x=\n",
    "  \\begin{bmatrix}\n",
    "    x_1 & x_2 \\\\\n",
    "    x_3 & x_4\n",
    "  \\end{bmatrix}$, since $f: \\mathbb{R}^{2x2} \\mapsto \\mathbb{R}^1$,\n",
    "  the gradient can be defined by the $2x2$ Jacobian $J_f^{2x2}=\n",
    "  \\begin{bmatrix}\n",
    "     \\frac{\\partial f}{\\partial x_1} &\n",
    "     \\frac{\\partial f}{\\partial x_2} \\\\\n",
    "     \\frac{\\partial f}{\\partial x_3} &\n",
    "     \\frac{\\partial f}{\\partial x_4}\n",
    "  \\end{bmatrix}$\n",
    "  \n",
    "Since $f(x)=x_1 - x_3 + 2x_2 - 2x_4$,\n",
    "This gives $J_f^{2x2}=\n",
    "  \\begin{bmatrix}\n",
    "     1 & 2 \\\\\n",
    "     -1 & -2\n",
    "  \\end{bmatrix}$"
   ]
  },
  {
   "cell_type": "code",
   "execution_count": 17,
   "metadata": {},
   "outputs": [
    {
     "data": {
      "text/plain": [
       "True"
      ]
     },
     "execution_count": 17,
     "metadata": {},
     "output_type": "execute_result"
    }
   ],
   "source": [
    "x = torch.tensor([[1., 2.],[3., 4.]], requires_grad=True)\n",
    "u = torch.tensor([[1.], [-1.]])\n",
    "v = torch.tensor([[1.], [2.]])\n",
    "\n",
    "i = torch.mm(u.t(), x)\n",
    "fx = torch.mm(i, v)\n",
    "fx.backward()\n",
    "\n",
    "J = torch.tensor([[1., 2.], [-1., -2.]])\n",
    "torch.equal(x.grad, J)"
   ]
  },
  {
   "cell_type": "markdown",
   "metadata": {},
   "source": [
    "## Learning Points\n",
    "\n",
    "* Initialize tensors properly. There's a difference between `torch.tensor([3.])` and `torch.tensor([[3.]])`:"
   ]
  },
  {
   "cell_type": "code",
   "execution_count": 23,
   "metadata": {},
   "outputs": [
    {
     "name": "stdout",
     "output_type": "stream",
     "text": [
      "torch.Size([1])\n",
      "torch.Size([1, 1])\n"
     ]
    }
   ],
   "source": [
    "print(torch.tensor([3.]).shape)\n",
    "print(torch.tensor([[3.]]).shape)"
   ]
  },
  {
   "cell_type": "markdown",
   "metadata": {},
   "source": [
    "* Use `torch.mm()` for matrix multiplication (strictly $nxd * dxm$) without broadcasting\n",
    "* Use `torch.matmul()` for inferred multiplication (matrix-vector, matrix-matrix, ...) with broadcasting"
   ]
  }
 ],
 "metadata": {
  "kernelspec": {
   "display_name": "Python 3",
   "language": "python",
   "name": "python3"
  },
  "language_info": {
   "codemirror_mode": {
    "name": "ipython",
    "version": 3
   },
   "file_extension": ".py",
   "mimetype": "text/x-python",
   "name": "python",
   "nbconvert_exporter": "python",
   "pygments_lexer": "ipython3",
   "version": "3.6.8"
  }
 },
 "nbformat": 4,
 "nbformat_minor": 2
}
