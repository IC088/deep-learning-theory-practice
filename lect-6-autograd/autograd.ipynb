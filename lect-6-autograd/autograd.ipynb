{
 "cells": [
  {
   "cell_type": "code",
   "execution_count": 33,
   "metadata": {},
   "outputs": [
    {
     "name": "stdout",
     "output_type": "stream",
     "text": [
      "ok\n"
     ]
    }
   ],
   "source": [
    "import torch\n",
    "\n",
    "x = torch.tensor([3.], requires_grad=True)\n",
    "fx = 3-(2*(x**2))+x**4\n",
    "\n",
    "#verify it is -4x + 4x^3\n",
    "fx.backward()\n",
    "if (-4*x + 4*x**3 == x.grad):\n",
    "    print(\"ok\")"
   ]
  },
  {
   "cell_type": "code",
   "execution_count": 132,
   "metadata": {},
   "outputs": [
    {
     "name": "stdout",
     "output_type": "stream",
     "text": [
      "tensor([[12.],\n",
      "        [18.]], grad_fn=<MmBackward>)\n",
      "tensor([[12.],\n",
      "        [18.]])\n"
     ]
    }
   ],
   "source": [
    "x = torch.tensor([[3.], [3.]], requires_grad=True)\n",
    "A = torch.tensor([[2., -1.], [1., 3.]])\n",
    "i = torch.mm(x.t(), A)\n",
    "fx = torch.mm(i, x)\n",
    "fx.backward()\n",
    "\n",
    "AA = torch.add(A, A.t())\n",
    "print(torch.mm(AA,x))\n",
    "print(x.grad)"
   ]
  },
  {
   "cell_type": "code",
   "execution_count": null,
   "metadata": {},
   "outputs": [],
   "source": []
  }
 ],
 "metadata": {
  "kernelspec": {
   "display_name": "Python 3",
   "language": "python",
   "name": "python3"
  },
  "language_info": {
   "codemirror_mode": {
    "name": "ipython",
    "version": 3
   },
   "file_extension": ".py",
   "mimetype": "text/x-python",
   "name": "python",
   "nbconvert_exporter": "python",
   "pygments_lexer": "ipython3",
   "version": "3.6.8"
  }
 },
 "nbformat": 4,
 "nbformat_minor": 2
}
